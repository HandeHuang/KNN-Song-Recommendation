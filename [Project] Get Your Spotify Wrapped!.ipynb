{
 "cells": [
  {
   "cell_type": "code",
   "execution_count": 1,
   "id": "3f00e1f3",
   "metadata": {},
   "outputs": [],
   "source": [
    "import pandas as pd\n",
    "import numpy as np\n",
    "import json\n",
    "import matplotlib.pyplot as plt\n",
    "import seaborn as sns\n",
    "import tkinter as tk\n",
    "from tkinter import filedialog\n",
    "import spotipy as sp\n",
    "import spotipy.util as util\n",
    "from spotipy import oauth2\n",
    "from spotipy.oauth2 import SpotifyClientCredentials\n",
    "%config InlineBackend.figure_format ='retina'\n",
    "import random\n",
    "from functools import reduce"
   ]
  },
  {
   "cell_type": "code",
   "execution_count": 2,
   "id": "4116ca14",
   "metadata": {},
   "outputs": [],
   "source": [
    "client_id = '14498f1851cb44baa6af1641d5d1b650' #these are my (Jacob's) credentials\n",
    "client_secret = 'f68c94b6e4d445e9a005062e95e0be8d'\n",
    "spotify = sp.Spotify(client_credentials_manager=SpotifyClientCredentials(client_id,client_secret))"
   ]
  },
  {
   "cell_type": "code",
   "execution_count": 3,
   "id": "e55f162d",
   "metadata": {},
   "outputs": [
    {
     "name": "stdout",
     "output_type": "stream",
     "text": [
      "How many streaming files do you have? 2\n",
      "Please select your files below.\n"
     ]
    }
   ],
   "source": [
    "number = input('How many streaming files do you have? ') #this cell is designed to make the notebook user-friendly\n",
    "try: #by shift-entering through each cell & inputting a valid data file, anyone can read out their own\n",
    "    number = int(number) #Spotify Wrapped, whenever\n",
    "    print('Please select your files below.')\n",
    "except:\n",
    "    print('Please input a positive integer.')\n",
    "    print('Run this cell again.')"
   ]
  },
  {
   "cell_type": "code",
   "execution_count": 4,
   "id": "e059ab41",
   "metadata": {},
   "outputs": [],
   "source": [
    "files = {} #this cell continues the previous cell\n",
    "for i in range(0,number):\n",
    "    root = tk.Tk()\n",
    "    root.withdraw()\n",
    "    files['File{0}'.format(i)] = filedialog.askopenfilenames() #this specific line opens the file-opener to select"
   ]
  },
  {
   "cell_type": "code",
   "execution_count": 5,
   "id": "41892a08",
   "metadata": {},
   "outputs": [],
   "source": [
    "streams = {} #this cell reads & cleans data, putting it all into a dictionary\n",
    "holdholder = []\n",
    "for i in files:\n",
    "    for j in files[i]:\n",
    "        holder = j.split('/')\n",
    "        holdholder.append(holder[-1])\n",
    "        streams['Stream{0}'.format(i)] = pd.read_json(holder[-1])"
   ]
  },
  {
   "cell_type": "code",
   "execution_count": 6,
   "id": "9a17a329",
   "metadata": {},
   "outputs": [],
   "source": [
    "artists = {} #this cell separates data into songs & artists, also collecting time played & number of times played\n",
    "songs = {}\n",
    "timevals = []\n",
    "for i in streams:\n",
    "    ruco = 0\n",
    "    for k in streams[i]['trackName']:\n",
    "        if k not in songs:\n",
    "            songs[k] = [1,streams[i]['msPlayed'][ruco],streams[i]['artistName'][ruco]]\n",
    "        if k in songs:\n",
    "            songs[k][0] += 1\n",
    "            songs[k][1] += streams[i]['msPlayed'][ruco]\n",
    "        ruco += 1\n",
    "            \n",
    "    for l in streams[i]['artistName']:\n",
    "        if l not in artists:\n",
    "            artists[l] = 1\n",
    "        if l in artists:\n",
    "            artists[l] += 1\n",
    "    \n",
    "    for m in streams[i]['msPlayed']:\n",
    "        timevals.append(m)"
   ]
  },
  {
   "cell_type": "code",
   "execution_count": 7,
   "id": "033a816d",
   "metadata": {},
   "outputs": [],
   "source": [
    "songs_sort = sorted(songs.items(),key = lambda kv: kv[1],reverse = True) #sorting data\n",
    "artists_sort = sorted(artists.items(),key = lambda kv: kv[1],reverse = True)"
   ]
  },
  {
   "cell_type": "code",
   "execution_count": 8,
   "id": "aa56c6f7",
   "metadata": {},
   "outputs": [],
   "source": [
    "def get_artist(name):\n",
    "    '''\n",
    "    This function finds an artist's data on Spotify & returns it\n",
    "    '''\n",
    "    results = spotify.search(q='artist:'+name,type='artist')\n",
    "    items = results['artists']['items']\n",
    "    if len(items) > 0:\n",
    "        return items[0]\n",
    "    else:\n",
    "        return None"
   ]
  },
  {
   "cell_type": "code",
   "execution_count": 9,
   "id": "69464b48",
   "metadata": {},
   "outputs": [],
   "source": [
    "def get_100_favorite_artists(filename):\n",
    "    '''\n",
    "    This function finds the top 100 artists for a user based on data file\n",
    "    '''\n",
    "    artists = {}\n",
    "    stream = pd.read_json(filename)\n",
    "\n",
    "    for j in stream['artistName']:\n",
    "        if j not in artists:\n",
    "            artists[j] = 1\n",
    "        elif j in artists:\n",
    "            artists[j] += 1\n",
    "    art_lists = sorted(artists.items(),key = lambda kv: kv[1],reverse = True)\n",
    "    \n",
    "    artist_list = []\n",
    "    for i in art_lists[:100]:\n",
    "        artist_list.append(i[0])\n",
    "        \n",
    "    return artist_list"
   ]
  },
  {
   "cell_type": "code",
   "execution_count": 10,
   "id": "00e00535",
   "metadata": {},
   "outputs": [],
   "source": [
    "def get_track_name_time_artist(filename):\n",
    "    '''\n",
    "    This function determines the tracks a user played alongside time played & artist\n",
    "    '''\n",
    "    tracks = {}\n",
    "    stream = pd.read_json(filename)\n",
    "\n",
    "    for i in range(len(stream)):\n",
    "        name = stream['trackName'][i]\n",
    "        time = stream['msPlayed'][i]\n",
    "        artist = stream['artistName'][i]\n",
    "        if name not in tracks:\n",
    "            tracks[name] = [time,artist]\n",
    "        elif name in tracks:\n",
    "            tracks[name][0] += time\n",
    "    tracks = sorted(tracks.items(),key = lambda kv: kv[1],reverse = True)\n",
    "    df = pd.DataFrame(tracks, columns =['track_names','time_artist'])\n",
    "\n",
    "        \n",
    "    return tracks,df"
   ]
  },
  {
   "cell_type": "code",
   "execution_count": 11,
   "id": "1fe52734",
   "metadata": {},
   "outputs": [],
   "source": [
    "def set_up_nineD(df):\n",
    "    '''\n",
    "    This function reads in the 9 characteristics of a given song & aids in recommending selections\n",
    "    at the end\n",
    "    '''\n",
    "    N = len(df)\n",
    "    nineD = np.zeros([N,9])\n",
    "    for i in range(N):\n",
    "        nineD[i,0] = df['danceability'][i]\n",
    "        nineD[i,1] = df['energy'][i]\n",
    "        nineD[i,2] = df['loudness'][i]\n",
    "        nineD[i,3] = df['speechiness'][i]\n",
    "        nineD[i,4] = df['acousticness'][i]\n",
    "        nineD[i,5] = df['instrumentalness'][i]\n",
    "        nineD[i,6] = df['liveness'][i]\n",
    "        nineD[i,7] = df['valence'][i]\n",
    "        nineD[i,8] = df['tempo'][i]\n",
    "    return nineD"
   ]
  },
  {
   "cell_type": "code",
   "execution_count": 12,
   "id": "327943eb",
   "metadata": {},
   "outputs": [],
   "source": [
    "from math import *\n",
    "def distance(p1,p2):\n",
    "    '''Returns the distance betwen two points'''\n",
    "    return sqrt((p1[0] - p2[0])**2 + \n",
    "                (p1[1] - p2[1])**2 +\n",
    "                (p1[2] - p2[2])**2 +\n",
    "                (p1[3] - p2[3])**2 +\n",
    "                (p1[4] - p2[4])**2 +\n",
    "                (p1[5] - p2[5])**2 +\n",
    "                (p1[6] - p2[6])**2 +\n",
    "                (p1[7] - p2[7])**2 +\n",
    "                (p1[8] - p2[8])**2)"
   ]
  },
  {
   "cell_type": "code",
   "execution_count": 13,
   "id": "bd38215d",
   "metadata": {},
   "outputs": [],
   "source": [
    "def knn (Center,nineD,k=3):\n",
    "    '''\n",
    "    This function determines the nearest neighbor of a given point\n",
    "    '''\n",
    "    N = len(nineD)\n",
    "    dist_list = []\n",
    "    for i in range(N):\n",
    "        dist = distance(Center,nineD[i])\n",
    "        dist_list.append(dist)\n",
    "    \n",
    "    min_value = []\n",
    "    min_index = []\n",
    "    for j in range(k):\n",
    "        min_val = sorted(dist_list)[j]\n",
    "        min_value.append(min_val)\n",
    "        \n",
    "        min_ind = dist_list.index(min_val)\n",
    "        min_index.append(min_ind)\n",
    "    return min_value , min_index"
   ]
  },
  {
   "cell_type": "code",
   "execution_count": 14,
   "id": "f19919e6",
   "metadata": {},
   "outputs": [],
   "source": [
    "def merge_files(stream, *stream2):\n",
    "    '''\n",
    "    This file can aid in the merging of files for analysis\n",
    "    It combines any number of dataframes into an existing, base frame\n",
    "    '''\n",
    "    for i in stream2:\n",
    "        big_df = stream.append((i), ignore_index = True)\n",
    "    return big_df"
   ]
  },
  {
   "cell_type": "code",
   "execution_count": 15,
   "id": "b2a0427f",
   "metadata": {},
   "outputs": [],
   "source": [
    "genres = {} #This cell determines the genres for a user's top artists\n",
    "for i in artists:\n",
    "    try:\n",
    "        holder = get_artist(i)['genres']\n",
    "        for k in holder:\n",
    "            if k not in genres:\n",
    "                genres[k] = 1\n",
    "            if k in genres:\n",
    "                genres[k] += 1\n",
    "    except:\n",
    "        pass"
   ]
  },
  {
   "cell_type": "code",
   "execution_count": 16,
   "id": "0d7ec2c3",
   "metadata": {},
   "outputs": [],
   "source": [
    "genres_sort = sorted(genres.items(),key = lambda kv: kv[1],reverse = True) #This cell sorts the top genres a user\n",
    "top10genre = genres_sort[:10] #listens to & returns the top 10"
   ]
  },
  {
   "cell_type": "code",
   "execution_count": 17,
   "id": "03f5de58",
   "metadata": {},
   "outputs": [],
   "source": [
    "tracktracker = {}\n",
    "for i in holdholder:\n",
    "    tracks,tracks_time = get_track_name_time_artist(i)\n",
    "    tracktracker[i] = [tracks,tracks_time]\n",
    "tracks_time = tracks_time.head(2000)\n",
    "#tracks_time"
   ]
  },
  {
   "cell_type": "code",
   "execution_count": 18,
   "id": "1f4abc91",
   "metadata": {},
   "outputs": [],
   "source": [
    "all_songs = pd.read_csv('tracks.csv') #this cell places a user's listened tracks into a dataframe in order to\n",
    "all_songs = all_songs.drop(columns = ['duration_ms','explicit','id','id_artists','mode']) #recommend new tracks\n",
    "all_songs = all_songs.drop_duplicates(subset = ['name', 'artists'],\n",
    "                                     keep = 'last').reset_index(drop = True)"
   ]
  },
  {
   "cell_type": "code",
   "execution_count": 19,
   "id": "c5b92cd9",
   "metadata": {},
   "outputs": [],
   "source": [
    "final_all_songs = all_songs.sort_values('popularity', ascending = False) #this cell masks previously listened tracks\n",
    "names = tracks_time['track_names'].values.tolist() #against a database of music going back 100 years"
   ]
  },
  {
   "cell_type": "code",
   "execution_count": 20,
   "id": "b0519e5d",
   "metadata": {},
   "outputs": [],
   "source": [
    "data_all = pd.DataFrame() #this cell formally masks\n",
    "for i in range(len(names)):\n",
    "    name = names[i]\n",
    "    artist = tracks_time['time_artist'][i][1]\n",
    "    formatted = '[\\''+artist+'\\']'\n",
    "    \n",
    "    mask1 = final_all_songs['name'] == name\n",
    "    mask2 = final_all_songs['artists'] == formatted\n",
    "    data_all = data_all.append(final_all_songs[mask1&mask2])"
   ]
  },
  {
   "cell_type": "code",
   "execution_count": 21,
   "id": "7a087cdd",
   "metadata": {},
   "outputs": [],
   "source": [
    "#data_all #this cell could provide a dataframe of the mask"
   ]
  },
  {
   "cell_type": "code",
   "execution_count": 22,
   "id": "7a5d362e",
   "metadata": {},
   "outputs": [
    {
     "name": "stdout",
     "output_type": "stream",
     "text": [
      "popularity           63.606880\n",
      "danceability          0.638678\n",
      "energy                0.633633\n",
      "key                   5.187961\n",
      "loudness             -6.676612\n",
      "speechiness           0.097130\n",
      "acousticness          0.225178\n",
      "instrumentalness      0.039761\n",
      "liveness              0.183167\n",
      "valence               0.485758\n",
      "tempo               121.733711\n",
      "time_signature        3.958231\n",
      "Name: mean, dtype: float64\n"
     ]
    }
   ],
   "source": [
    "print(data_all.describe().loc['mean']) #this cell cleans up song values, used in recommendations\n",
    "#print(data_all.describe().loc['mean'].values.tolist())\n",
    "Center = data_all.describe().loc['mean'].values.tolist()\n",
    "del Center[0] #pop\n",
    "del Center[2] #key\n",
    "#del Center[8] #tempo, if uncomment, have to change below to 8 too.\n",
    "del Center[9] #time_sig\n",
    "#print(Center)"
   ]
  },
  {
   "cell_type": "code",
   "execution_count": 23,
   "id": "0b186d19",
   "metadata": {},
   "outputs": [],
   "source": [
    "small_all = final_all_songs.head(100000) #a continuation of the previous cell\n",
    "small_all = small_all.reset_index()\n",
    "nineD = set_up_nineD(small_all)\n",
    "zoinks = 10 #name is irrelevant\n",
    "min_value , min_index = knn(Center,nineD,k=zoinks)"
   ]
  },
  {
   "cell_type": "code",
   "execution_count": 24,
   "id": "a90ac4c4",
   "metadata": {},
   "outputs": [],
   "source": [
    "recommendation_df = small_all.loc[min_index] #the recommendation dataframe, masked from the total database\n",
    "recommendation_df = recommendation_df.reset_index()\n",
    "#recommendation_df"
   ]
  },
  {
   "cell_type": "code",
   "execution_count": 25,
   "id": "bbc774ec",
   "metadata": {},
   "outputs": [],
   "source": [
    "mssum = 0\n",
    "for i in timevals:\n",
    "    mssum += i\n",
    "\n",
    "ssum = mssum*.001 #converting milliseconds to minutes\n",
    "msum = ssum/60\n",
    "msumrd = round(msum,2)\n",
    "top5songs = [] #top 5 most played tracks\n",
    "t5sart = [] #top 5 most played artists\n",
    "helpcount = 0\n",
    "\n",
    "for j in songs_sort:\n",
    "    if helpcount < 5:\n",
    "        top5songs.append(j[0])\n",
    "        t5sart.append(j[1][-1])\n",
    "    helpcount += 1"
   ]
  },
  {
   "cell_type": "code",
   "execution_count": 26,
   "id": "82afb3a3",
   "metadata": {},
   "outputs": [
    {
     "name": "stdout",
     "output_type": "stream",
     "text": [
      "Congratulations on 36646.21 minutes of listening!\n",
      "\n",
      "This past year, your top 5 songs were:\n",
      "She's My Collar (feat. Kali Uchis) by Gorillaz\n",
      "Pursuit Of Happiness (Nightmare) by Kid Cudi\n",
      "Voyager by Daft Punk\n",
      "Aria Math by C418\n",
      "Who's Been Sleeping In My Bed by Barry Manilow\n",
      "\n",
      "This past year, your top 10 artists were:\n",
      "Gorillaz who you listened to 692 times!\n",
      "Daft Punk who you listened to 380 times!\n",
      "Kanye West who you listened to 358 times!\n",
      "The Neighbourhood who you listened to 331 times!\n",
      "The Beatles who you listened to 277 times!\n",
      "Pitbull who you listened to 238 times!\n",
      "C418 who you listened to 211 times!\n",
      "Greta Van Fleet who you listened to 207 times!\n",
      "Arctic Monkeys who you listened to 194 times!\n",
      "The Killers who you listened to 179 times!\n",
      "\n",
      "This past year, your top genres were:\n",
      "POP\n",
      "ROCK\n",
      "MODERN ROCK\n"
     ]
    }
   ],
   "source": [
    "print('Congratulations on',msumrd,'minutes of listening!')\n",
    "print()\n",
    "print('This past year, your top 5 songs were:')\n",
    "print(top5songs[0],'by',t5sart[0])\n",
    "print(top5songs[1],'by',t5sart[1])\n",
    "print(top5songs[2],'by',t5sart[2])\n",
    "print(top5songs[3],'by',t5sart[3])\n",
    "print(top5songs[4],'by',t5sart[4])\n",
    "print()\n",
    "print('This past year, your top 10 artists were:')\n",
    "print(artists_sort[0][0],'who you listened to',artists_sort[0][1],'times!')\n",
    "print(artists_sort[1][0],'who you listened to',artists_sort[1][1],'times!')\n",
    "print(artists_sort[2][0],'who you listened to',artists_sort[2][1],'times!')\n",
    "print(artists_sort[3][0],'who you listened to',artists_sort[3][1],'times!')\n",
    "print(artists_sort[4][0],'who you listened to',artists_sort[4][1],'times!')\n",
    "print(artists_sort[5][0],'who you listened to',artists_sort[5][1],'times!')\n",
    "print(artists_sort[6][0],'who you listened to',artists_sort[6][1],'times!')\n",
    "print(artists_sort[7][0],'who you listened to',artists_sort[7][1],'times!')\n",
    "print(artists_sort[8][0],'who you listened to',artists_sort[8][1],'times!')\n",
    "print(artists_sort[9][0],'who you listened to',artists_sort[9][1],'times!')\n",
    "print()\n",
    "print('This past year, your top genres were:')\n",
    "print(top10genre[0][0].upper())\n",
    "print(top10genre[1][0].upper())\n",
    "print(top10genre[2][0].upper())"
   ]
  },
  {
   "cell_type": "code",
   "execution_count": 27,
   "id": "86b1a350",
   "metadata": {},
   "outputs": [
    {
     "name": "stdout",
     "output_type": "stream",
     "text": [
      "Going into the next year, here's some music we think you'll love!\n",
      "\n",
      "Song Title ['Band Name']\n",
      "-----------------------------------------------------------------------------------------------\n",
      "\n",
      "I Think I'm In Love ['Kat Dahlia'] \n",
      "\n",
      "Roscoe - Beyond the Wizard's Sleeve Remix ['Midlake', 'Beyond The Wizards Sleeve'] \n",
      "\n",
      "Back on My Feet Again ['The Babys'] \n",
      "\n",
      "Carry On (from the Original Motion Picture \"POKÉMON Detective Pikachu\") ['Kygo', 'Rita Ora'] \n",
      "\n",
      "Knocking At Your Back Door ['Deep Purple'] \n",
      "\n",
      "Alles auf Rot ['Capo'] \n",
      "\n",
      "Blue & Grey ['BTS'] \n",
      "\n",
      "Strange Days ['The Doors'] \n",
      "\n",
      "La déclaration d'amour - Remasterisé en 2004 ['France Gall'] \n",
      "\n",
      "Spirit in the Sky ['KEiiNO'] \n",
      "\n"
     ]
    }
   ],
   "source": [
    "print(\"Going into the next year, here's some music we think you'll love!\")\n",
    "print()\n",
    "print('Song Title',\"['Band Name']\")\n",
    "print('-----------------------------------------------------------------------------------------------')\n",
    "print()\n",
    "for i in range(zoinks):\n",
    "    print(recommendation_df['name'][i],recommendation_df['artists'][i],'\\n')"
   ]
  },
  {
   "cell_type": "code",
   "execution_count": 28,
   "id": "0daa5725",
   "metadata": {},
   "outputs": [
    {
     "data": {
      "text/plain": [
       "Text(0.5, 1.0, 'Top Listening Songs, Visualised')"
      ]
     },
     "execution_count": 28,
     "metadata": {},
     "output_type": "execute_result"
    },
    {
     "data": {
      "image/png": "[encoded data removed]",
      "text/plain": [
       "<Figure size 432x288 with 1 Axes>"
      ]
     },
     "metadata": {
      "image/png": {
       "height": 436,
       "width": 382
      },
      "needs_background": "light"
     },
     "output_type": "display_data"
    }
   ],
   "source": [
    "x = []\n",
    "y = []\n",
    "for i in range(20):\n",
    "    x.append(songs_sort[i][0])\n",
    "    y.append(songs_sort[i][1][0])\n",
    "plt.bar(x,y,color = 'pink')\n",
    "plt.xticks(rotation=90)\n",
    "plt.xlabel('Song Title')\n",
    "plt.ylabel('Times Listened')\n",
    "plt.title('Top Listening Songs, Visualised')"
   ]
  }
 ],
 "metadata": {
  "kernelspec": {
   "display_name": "Python 3",
   "language": "python",
   "name": "python3"
  },
  "language_info": {
   "codemirror_mode": {
    "name": "ipython",
    "version": 3
   },
   "file_extension": ".py",
   "mimetype": "text/x-python",
   "name": "python",
   "nbconvert_exporter": "python",
   "pygments_lexer": "ipython3",
   "version": "3.8.8"
  }
 },
 "nbformat": 4,
 "nbformat_minor": 5
}
